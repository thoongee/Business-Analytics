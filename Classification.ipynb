{
  "nbformat": 4,
  "nbformat_minor": 0,
  "metadata": {
    "colab": {
      "provenance": []
    },
    "kernelspec": {
      "name": "python3",
      "display_name": "Python 3"
    },
    "language_info": {
      "name": "python"
    }
  },
  "cells": [
    {
      "cell_type": "code",
      "execution_count": 1,
      "metadata": {
        "id": "xDUTtx4UuX0l"
      },
      "outputs": [],
      "source": [
        "# Import libraries\n",
        "## Basic libs\n",
        "import pandas as pd\n",
        "import numpy as np\n",
        "import warnings\n",
        "## Data Visualization\n",
        "import seaborn as sns\n",
        "import matplotlib.pyplot as plt\n",
        "\n",
        "## Metric\n",
        "from sklearn import metrics\n",
        "\n",
        "# Configure libraries\n",
        "warnings.filterwarnings('ignore')\n",
        "plt.rc('font', family='NanumBarunGothic') \n",
        "plt.rcParams['figure.figsize'] = (10, 10)\n",
        "plt.style.use('seaborn')"
      ]
    },
    {
      "cell_type": "markdown",
      "source": [
        "# Import training, test dataset"
      ],
      "metadata": {
        "id": "tfURVpQI0GfI"
      }
    },
    {
      "cell_type": "markdown",
      "source": [
        "## Training dataset\n",
        "\n",
        "target 0: Not the best location\n",
        "\n",
        "target 1: The best location"
      ],
      "metadata": {
        "id": "p08jSboS0uUa"
      }
    },
    {
      "cell_type": "code",
      "source": [
        "df = pd.read_csv('/content/train.csv')\n",
        "df = df.drop('Unnamed: 0',axis=1)"
      ],
      "metadata": {
        "id": "L78zqiWJvPIF"
      },
      "execution_count": 2,
      "outputs": []
    },
    {
      "cell_type": "code",
      "source": [
        "df.head()"
      ],
      "metadata": {
        "colab": {
          "base_uri": "https://localhost:8080/",
          "height": 206
        },
        "id": "m1-9eNiWvTht",
        "outputId": "7d5a5831-192f-475e-df2a-820b8a16b049"
      },
      "execution_count": 3,
      "outputs": [
        {
          "output_type": "execute_result",
          "data": {
            "text/plain": [
              "     면적    반려동물 가구밀도  폐사안락사 비율(폐사안락사 수/면적)    보호소 밀도  동물병원약국개수  동물병원약국 밀도  \\\n",
              "0  1.34  1536.823881             11.194030  0.746269        11   8.208955   \n",
              "1  0.96  2583.450000             13.541667  1.041667        11  11.458333   \n",
              "2  1.13  2021.607080             16.814159  0.884956        10   8.849558   \n",
              "3  0.40  2389.237500              0.000000  0.000000         2   5.000000   \n",
              "4  2.52  1003.252381              0.000000  0.000000        14   5.555556   \n",
              "\n",
              "   target  \n",
              "0       0  \n",
              "1       0  \n",
              "2       1  \n",
              "3       0  \n",
              "4       0  "
            ],
            "text/html": [
              "\n",
              "  <div id=\"df-01397497-ed46-4c64-9915-d0ba57e2338f\">\n",
              "    <div class=\"colab-df-container\">\n",
              "      <div>\n",
              "<style scoped>\n",
              "    .dataframe tbody tr th:only-of-type {\n",
              "        vertical-align: middle;\n",
              "    }\n",
              "\n",
              "    .dataframe tbody tr th {\n",
              "        vertical-align: top;\n",
              "    }\n",
              "\n",
              "    .dataframe thead th {\n",
              "        text-align: right;\n",
              "    }\n",
              "</style>\n",
              "<table border=\"1\" class=\"dataframe\">\n",
              "  <thead>\n",
              "    <tr style=\"text-align: right;\">\n",
              "      <th></th>\n",
              "      <th>면적</th>\n",
              "      <th>반려동물 가구밀도</th>\n",
              "      <th>폐사안락사 비율(폐사안락사 수/면적)</th>\n",
              "      <th>보호소 밀도</th>\n",
              "      <th>동물병원약국개수</th>\n",
              "      <th>동물병원약국 밀도</th>\n",
              "      <th>target</th>\n",
              "    </tr>\n",
              "  </thead>\n",
              "  <tbody>\n",
              "    <tr>\n",
              "      <th>0</th>\n",
              "      <td>1.34</td>\n",
              "      <td>1536.823881</td>\n",
              "      <td>11.194030</td>\n",
              "      <td>0.746269</td>\n",
              "      <td>11</td>\n",
              "      <td>8.208955</td>\n",
              "      <td>0</td>\n",
              "    </tr>\n",
              "    <tr>\n",
              "      <th>1</th>\n",
              "      <td>0.96</td>\n",
              "      <td>2583.450000</td>\n",
              "      <td>13.541667</td>\n",
              "      <td>1.041667</td>\n",
              "      <td>11</td>\n",
              "      <td>11.458333</td>\n",
              "      <td>0</td>\n",
              "    </tr>\n",
              "    <tr>\n",
              "      <th>2</th>\n",
              "      <td>1.13</td>\n",
              "      <td>2021.607080</td>\n",
              "      <td>16.814159</td>\n",
              "      <td>0.884956</td>\n",
              "      <td>10</td>\n",
              "      <td>8.849558</td>\n",
              "      <td>1</td>\n",
              "    </tr>\n",
              "    <tr>\n",
              "      <th>3</th>\n",
              "      <td>0.40</td>\n",
              "      <td>2389.237500</td>\n",
              "      <td>0.000000</td>\n",
              "      <td>0.000000</td>\n",
              "      <td>2</td>\n",
              "      <td>5.000000</td>\n",
              "      <td>0</td>\n",
              "    </tr>\n",
              "    <tr>\n",
              "      <th>4</th>\n",
              "      <td>2.52</td>\n",
              "      <td>1003.252381</td>\n",
              "      <td>0.000000</td>\n",
              "      <td>0.000000</td>\n",
              "      <td>14</td>\n",
              "      <td>5.555556</td>\n",
              "      <td>0</td>\n",
              "    </tr>\n",
              "  </tbody>\n",
              "</table>\n",
              "</div>\n",
              "      <button class=\"colab-df-convert\" onclick=\"convertToInteractive('df-01397497-ed46-4c64-9915-d0ba57e2338f')\"\n",
              "              title=\"Convert this dataframe to an interactive table.\"\n",
              "              style=\"display:none;\">\n",
              "        \n",
              "  <svg xmlns=\"http://www.w3.org/2000/svg\" height=\"24px\"viewBox=\"0 0 24 24\"\n",
              "       width=\"24px\">\n",
              "    <path d=\"M0 0h24v24H0V0z\" fill=\"none\"/>\n",
              "    <path d=\"M18.56 5.44l.94 2.06.94-2.06 2.06-.94-2.06-.94-.94-2.06-.94 2.06-2.06.94zm-11 1L8.5 8.5l.94-2.06 2.06-.94-2.06-.94L8.5 2.5l-.94 2.06-2.06.94zm10 10l.94 2.06.94-2.06 2.06-.94-2.06-.94-.94-2.06-.94 2.06-2.06.94z\"/><path d=\"M17.41 7.96l-1.37-1.37c-.4-.4-.92-.59-1.43-.59-.52 0-1.04.2-1.43.59L10.3 9.45l-7.72 7.72c-.78.78-.78 2.05 0 2.83L4 21.41c.39.39.9.59 1.41.59.51 0 1.02-.2 1.41-.59l7.78-7.78 2.81-2.81c.8-.78.8-2.07 0-2.86zM5.41 20L4 18.59l7.72-7.72 1.47 1.35L5.41 20z\"/>\n",
              "  </svg>\n",
              "      </button>\n",
              "      \n",
              "  <style>\n",
              "    .colab-df-container {\n",
              "      display:flex;\n",
              "      flex-wrap:wrap;\n",
              "      gap: 12px;\n",
              "    }\n",
              "\n",
              "    .colab-df-convert {\n",
              "      background-color: #E8F0FE;\n",
              "      border: none;\n",
              "      border-radius: 50%;\n",
              "      cursor: pointer;\n",
              "      display: none;\n",
              "      fill: #1967D2;\n",
              "      height: 32px;\n",
              "      padding: 0 0 0 0;\n",
              "      width: 32px;\n",
              "    }\n",
              "\n",
              "    .colab-df-convert:hover {\n",
              "      background-color: #E2EBFA;\n",
              "      box-shadow: 0px 1px 2px rgba(60, 64, 67, 0.3), 0px 1px 3px 1px rgba(60, 64, 67, 0.15);\n",
              "      fill: #174EA6;\n",
              "    }\n",
              "\n",
              "    [theme=dark] .colab-df-convert {\n",
              "      background-color: #3B4455;\n",
              "      fill: #D2E3FC;\n",
              "    }\n",
              "\n",
              "    [theme=dark] .colab-df-convert:hover {\n",
              "      background-color: #434B5C;\n",
              "      box-shadow: 0px 1px 3px 1px rgba(0, 0, 0, 0.15);\n",
              "      filter: drop-shadow(0px 1px 2px rgba(0, 0, 0, 0.3));\n",
              "      fill: #FFFFFF;\n",
              "    }\n",
              "  </style>\n",
              "\n",
              "      <script>\n",
              "        const buttonEl =\n",
              "          document.querySelector('#df-01397497-ed46-4c64-9915-d0ba57e2338f button.colab-df-convert');\n",
              "        buttonEl.style.display =\n",
              "          google.colab.kernel.accessAllowed ? 'block' : 'none';\n",
              "\n",
              "        async function convertToInteractive(key) {\n",
              "          const element = document.querySelector('#df-01397497-ed46-4c64-9915-d0ba57e2338f');\n",
              "          const dataTable =\n",
              "            await google.colab.kernel.invokeFunction('convertToInteractive',\n",
              "                                                     [key], {});\n",
              "          if (!dataTable) return;\n",
              "\n",
              "          const docLinkHtml = 'Like what you see? Visit the ' +\n",
              "            '<a target=\"_blank\" href=https://colab.research.google.com/notebooks/data_table.ipynb>data table notebook</a>'\n",
              "            + ' to learn more about interactive tables.';\n",
              "          element.innerHTML = '';\n",
              "          dataTable['output_type'] = 'display_data';\n",
              "          await google.colab.output.renderOutput(dataTable, element);\n",
              "          const docLink = document.createElement('div');\n",
              "          docLink.innerHTML = docLinkHtml;\n",
              "          element.appendChild(docLink);\n",
              "        }\n",
              "      </script>\n",
              "    </div>\n",
              "  </div>\n",
              "  "
            ]
          },
          "metadata": {},
          "execution_count": 3
        }
      ]
    },
    {
      "cell_type": "code",
      "source": [
        "# we have imbalanced dataset\n",
        "df['target'].value_counts()"
      ],
      "metadata": {
        "colab": {
          "base_uri": "https://localhost:8080/"
        },
        "id": "Z_FX7QNivfT8",
        "outputId": "61b68cf6-2f86-44a0-caa3-2e534b0578bf"
      },
      "execution_count": 4,
      "outputs": [
        {
          "output_type": "execute_result",
          "data": {
            "text/plain": [
              "0    389\n",
              "1     36\n",
              "Name: target, dtype: int64"
            ]
          },
          "metadata": {},
          "execution_count": 4
        }
      ]
    },
    {
      "cell_type": "code",
      "source": [
        "# Select Features\n",
        "feature = df.drop('target', axis=1)\n",
        "\n",
        "# Select Target\n",
        "target = df['target']\n",
        "\n",
        "# Set Training and Testing Data\n",
        "from sklearn.model_selection import train_test_split\n",
        "X_train, X_val, y_train, y_val = train_test_split(feature , target, \n",
        "                                                    shuffle = True, \n",
        "                                                    test_size=0.2, \n",
        "                                                    random_state=42)\n",
        "\n",
        "# Show the Training and Testing Data\n",
        "print('Shape of training feature:', X_train.shape)\n",
        "print('Shape of validation feature:', X_val.shape)\n",
        "print('Shape of training label:', y_train.shape)\n",
        "print('Shape of validation label:', y_val.shape)"
      ],
      "metadata": {
        "colab": {
          "base_uri": "https://localhost:8080/"
        },
        "id": "6iNWMn8cwhQW",
        "outputId": "f71287ee-3532-4dd1-eca3-fb0000d72f9f"
      },
      "execution_count": 5,
      "outputs": [
        {
          "output_type": "stream",
          "name": "stdout",
          "text": [
            "Shape of training feature: (340, 6)\n",
            "Shape of validation feature: (85, 6)\n",
            "Shape of training label: (340,)\n",
            "Shape of validation label: (85,)\n"
          ]
        }
      ]
    },
    {
      "cell_type": "markdown",
      "source": [
        "## Test dataset"
      ],
      "metadata": {
        "id": "DfPdgb0M0xbG"
      }
    },
    {
      "cell_type": "code",
      "source": [
        "df_test = pd.read_csv('/content/test.csv')\n",
        "gu_list = df_test['서울시 구']"
      ],
      "metadata": {
        "id": "ePktPoOB2QiJ"
      },
      "execution_count": 6,
      "outputs": []
    },
    {
      "cell_type": "code",
      "source": [
        "num_cols = ['면적', '반려동물 가구밀도', '폐사안락사 비율', '보호소 밀도', '동물병원약국개수',\n",
        "       '동물병원약국 밀도']\n",
        "X_test = df_test[num_cols]\n",
        "X_test.head()"
      ],
      "metadata": {
        "colab": {
          "base_uri": "https://localhost:8080/",
          "height": 206
        },
        "id": "V09Rscpa0Nld",
        "outputId": "76c0fa97-d933-480b-9117-9c4a7229ec0d"
      },
      "execution_count": 7,
      "outputs": [
        {
          "output_type": "execute_result",
          "data": {
            "text/plain": [
              "   면적    반려동물 가구밀도   폐사안락사 비율    보호소 밀도  동물병원약국개수  동물병원약국 밀도\n",
              "0  18  3068.500000  20.500000  1.444444       207  11.500000\n",
              "1  14  2284.857143   0.428571  0.357143       101   7.214286\n",
              "2   8  2313.625000   0.000000  0.000000        58   7.250000\n",
              "3  30  1659.500000   0.000000  0.000000       144   4.800000\n",
              "4  17   697.058824  14.294118  0.941176       111   6.529412"
            ],
            "text/html": [
              "\n",
              "  <div id=\"df-ce46386f-32fc-4682-854c-49eb858d0516\">\n",
              "    <div class=\"colab-df-container\">\n",
              "      <div>\n",
              "<style scoped>\n",
              "    .dataframe tbody tr th:only-of-type {\n",
              "        vertical-align: middle;\n",
              "    }\n",
              "\n",
              "    .dataframe tbody tr th {\n",
              "        vertical-align: top;\n",
              "    }\n",
              "\n",
              "    .dataframe thead th {\n",
              "        text-align: right;\n",
              "    }\n",
              "</style>\n",
              "<table border=\"1\" class=\"dataframe\">\n",
              "  <thead>\n",
              "    <tr style=\"text-align: right;\">\n",
              "      <th></th>\n",
              "      <th>면적</th>\n",
              "      <th>반려동물 가구밀도</th>\n",
              "      <th>폐사안락사 비율</th>\n",
              "      <th>보호소 밀도</th>\n",
              "      <th>동물병원약국개수</th>\n",
              "      <th>동물병원약국 밀도</th>\n",
              "    </tr>\n",
              "  </thead>\n",
              "  <tbody>\n",
              "    <tr>\n",
              "      <th>0</th>\n",
              "      <td>18</td>\n",
              "      <td>3068.500000</td>\n",
              "      <td>20.500000</td>\n",
              "      <td>1.444444</td>\n",
              "      <td>207</td>\n",
              "      <td>11.500000</td>\n",
              "    </tr>\n",
              "    <tr>\n",
              "      <th>1</th>\n",
              "      <td>14</td>\n",
              "      <td>2284.857143</td>\n",
              "      <td>0.428571</td>\n",
              "      <td>0.357143</td>\n",
              "      <td>101</td>\n",
              "      <td>7.214286</td>\n",
              "    </tr>\n",
              "    <tr>\n",
              "      <th>2</th>\n",
              "      <td>8</td>\n",
              "      <td>2313.625000</td>\n",
              "      <td>0.000000</td>\n",
              "      <td>0.000000</td>\n",
              "      <td>58</td>\n",
              "      <td>7.250000</td>\n",
              "    </tr>\n",
              "    <tr>\n",
              "      <th>3</th>\n",
              "      <td>30</td>\n",
              "      <td>1659.500000</td>\n",
              "      <td>0.000000</td>\n",
              "      <td>0.000000</td>\n",
              "      <td>144</td>\n",
              "      <td>4.800000</td>\n",
              "    </tr>\n",
              "    <tr>\n",
              "      <th>4</th>\n",
              "      <td>17</td>\n",
              "      <td>697.058824</td>\n",
              "      <td>14.294118</td>\n",
              "      <td>0.941176</td>\n",
              "      <td>111</td>\n",
              "      <td>6.529412</td>\n",
              "    </tr>\n",
              "  </tbody>\n",
              "</table>\n",
              "</div>\n",
              "      <button class=\"colab-df-convert\" onclick=\"convertToInteractive('df-ce46386f-32fc-4682-854c-49eb858d0516')\"\n",
              "              title=\"Convert this dataframe to an interactive table.\"\n",
              "              style=\"display:none;\">\n",
              "        \n",
              "  <svg xmlns=\"http://www.w3.org/2000/svg\" height=\"24px\"viewBox=\"0 0 24 24\"\n",
              "       width=\"24px\">\n",
              "    <path d=\"M0 0h24v24H0V0z\" fill=\"none\"/>\n",
              "    <path d=\"M18.56 5.44l.94 2.06.94-2.06 2.06-.94-2.06-.94-.94-2.06-.94 2.06-2.06.94zm-11 1L8.5 8.5l.94-2.06 2.06-.94-2.06-.94L8.5 2.5l-.94 2.06-2.06.94zm10 10l.94 2.06.94-2.06 2.06-.94-2.06-.94-.94-2.06-.94 2.06-2.06.94z\"/><path d=\"M17.41 7.96l-1.37-1.37c-.4-.4-.92-.59-1.43-.59-.52 0-1.04.2-1.43.59L10.3 9.45l-7.72 7.72c-.78.78-.78 2.05 0 2.83L4 21.41c.39.39.9.59 1.41.59.51 0 1.02-.2 1.41-.59l7.78-7.78 2.81-2.81c.8-.78.8-2.07 0-2.86zM5.41 20L4 18.59l7.72-7.72 1.47 1.35L5.41 20z\"/>\n",
              "  </svg>\n",
              "      </button>\n",
              "      \n",
              "  <style>\n",
              "    .colab-df-container {\n",
              "      display:flex;\n",
              "      flex-wrap:wrap;\n",
              "      gap: 12px;\n",
              "    }\n",
              "\n",
              "    .colab-df-convert {\n",
              "      background-color: #E8F0FE;\n",
              "      border: none;\n",
              "      border-radius: 50%;\n",
              "      cursor: pointer;\n",
              "      display: none;\n",
              "      fill: #1967D2;\n",
              "      height: 32px;\n",
              "      padding: 0 0 0 0;\n",
              "      width: 32px;\n",
              "    }\n",
              "\n",
              "    .colab-df-convert:hover {\n",
              "      background-color: #E2EBFA;\n",
              "      box-shadow: 0px 1px 2px rgba(60, 64, 67, 0.3), 0px 1px 3px 1px rgba(60, 64, 67, 0.15);\n",
              "      fill: #174EA6;\n",
              "    }\n",
              "\n",
              "    [theme=dark] .colab-df-convert {\n",
              "      background-color: #3B4455;\n",
              "      fill: #D2E3FC;\n",
              "    }\n",
              "\n",
              "    [theme=dark] .colab-df-convert:hover {\n",
              "      background-color: #434B5C;\n",
              "      box-shadow: 0px 1px 3px 1px rgba(0, 0, 0, 0.15);\n",
              "      filter: drop-shadow(0px 1px 2px rgba(0, 0, 0, 0.3));\n",
              "      fill: #FFFFFF;\n",
              "    }\n",
              "  </style>\n",
              "\n",
              "      <script>\n",
              "        const buttonEl =\n",
              "          document.querySelector('#df-ce46386f-32fc-4682-854c-49eb858d0516 button.colab-df-convert');\n",
              "        buttonEl.style.display =\n",
              "          google.colab.kernel.accessAllowed ? 'block' : 'none';\n",
              "\n",
              "        async function convertToInteractive(key) {\n",
              "          const element = document.querySelector('#df-ce46386f-32fc-4682-854c-49eb858d0516');\n",
              "          const dataTable =\n",
              "            await google.colab.kernel.invokeFunction('convertToInteractive',\n",
              "                                                     [key], {});\n",
              "          if (!dataTable) return;\n",
              "\n",
              "          const docLinkHtml = 'Like what you see? Visit the ' +\n",
              "            '<a target=\"_blank\" href=https://colab.research.google.com/notebooks/data_table.ipynb>data table notebook</a>'\n",
              "            + ' to learn more about interactive tables.';\n",
              "          element.innerHTML = '';\n",
              "          dataTable['output_type'] = 'display_data';\n",
              "          await google.colab.output.renderOutput(dataTable, element);\n",
              "          const docLink = document.createElement('div');\n",
              "          docLink.innerHTML = docLinkHtml;\n",
              "          element.appendChild(docLink);\n",
              "        }\n",
              "      </script>\n",
              "    </div>\n",
              "  </div>\n",
              "  "
            ]
          },
          "metadata": {},
          "execution_count": 7
        }
      ]
    },
    {
      "cell_type": "code",
      "source": [
        "from sklearn.preprocessing import StandardScaler\n",
        "\n",
        "scaler = StandardScaler()\n",
        "scaler.fit(X_train)\n",
        "\n",
        "X_scaled_train = scaler.transform(X_train)\n",
        "X_scaled_val = scaler.transform(X_val)\n",
        "X_scaled_test = scaler.transform(X_test)"
      ],
      "metadata": {
        "id": "wBsbdeWxv8cH"
      },
      "execution_count": 8,
      "outputs": []
    },
    {
      "cell_type": "markdown",
      "source": [
        "# Training"
      ],
      "metadata": {
        "id": "Aps-t9NE05Sd"
      }
    },
    {
      "cell_type": "code",
      "source": [
        "def evaluate_model(model, x_test, y_test):\n",
        "    # Predict Test Data \n",
        "    y_pred = model.predict(x_test)\n",
        "\n",
        "    # Calculate accuracy, precision, recall, and f1-score\n",
        "    acc = metrics.accuracy_score(y_test, y_pred)\n",
        "    prec = metrics.precision_score(y_test, y_pred)\n",
        "    rec = metrics.recall_score(y_test, y_pred)\n",
        "    f1 = metrics.f1_score(y_test, y_pred)\n",
        "\n",
        "    # Calculate area under curve (AUC)\n",
        "    y_pred_proba = model.predict_proba(x_test)[::,1]\n",
        "    fpr, tpr, _ = metrics.roc_curve(y_test, y_pred_proba)\n",
        "    auc = metrics.roc_auc_score(y_test, y_pred_proba)\n",
        "\n",
        "    # Display confussion matrix\n",
        "    cm = metrics.confusion_matrix(y_test, y_pred)\n",
        "\n",
        "    return {'acc': acc, 'prec': prec, 'rec': rec, 'f1': f1, \n",
        "            'fpr': fpr, 'tpr': tpr, 'auc': auc, 'cm': cm}"
      ],
      "metadata": {
        "id": "B5LZKNIFwzT7"
      },
      "execution_count": 9,
      "outputs": []
    },
    {
      "cell_type": "markdown",
      "source": [
        "# Classification Model"
      ],
      "metadata": {
        "id": "Z1uH946w07l3"
      }
    },
    {
      "cell_type": "markdown",
      "source": [
        "# Logistic Regression"
      ],
      "metadata": {
        "id": "OLqUE0ifuxXl"
      }
    },
    {
      "cell_type": "code",
      "source": [
        "from sklearn.linear_model import LogisticRegression\n",
        "\n",
        "# Building Logistic Regression model \n",
        "lr = LogisticRegression(random_state=42)\n",
        "lr.fit(X_scaled_train, y_train)\n",
        "\n",
        "# Evaluate Model\n",
        "lr_eval = evaluate_model(lr, X_scaled_val, y_val)\n",
        "\n",
        "# Print result\n",
        "print('Accuracy:', lr_eval['acc'])\n",
        "print('Precision:', lr_eval['prec'])\n",
        "print('Recall:', lr_eval['rec'])\n",
        "print('F1 Score:', lr_eval['f1'])\n",
        "print('Area Under Curve:', lr_eval['auc'])\n",
        "print('Confusion Matrix:\\n', lr_eval['cm'])"
      ],
      "metadata": {
        "colab": {
          "base_uri": "https://localhost:8080/"
        },
        "id": "J68kLiiguztn",
        "outputId": "a2ae2fab-4c64-4058-9720-8ac14b1abaf6"
      },
      "execution_count": 10,
      "outputs": [
        {
          "output_type": "stream",
          "name": "stdout",
          "text": [
            "Accuracy: 0.8588235294117647\n",
            "Precision: 0.2\n",
            "Recall: 0.1111111111111111\n",
            "F1 Score: 0.14285714285714285\n",
            "Area Under Curve: 0.9254385964912281\n",
            "Confusion Matrix:\n",
            " [[72  4]\n",
            " [ 8  1]]\n"
          ]
        }
      ]
    },
    {
      "cell_type": "markdown",
      "source": [
        "# Decision Tree"
      ],
      "metadata": {
        "id": "YkE9Z81yxt6h"
      }
    },
    {
      "cell_type": "code",
      "source": [
        "from sklearn import tree\n",
        "\n",
        "# Building Decision Tree model \n",
        "dtc = tree.DecisionTreeClassifier(random_state=42)\n",
        "dtc.fit(X_scaled_train, y_train)\n",
        "\n",
        "# Evaluate Model\n",
        "dtc_eval = evaluate_model(dtc, X_scaled_val, y_val)\n",
        "\n",
        "# Print result\n",
        "print('Accuracy:', dtc_eval['acc'])\n",
        "print('Precision:', dtc_eval['prec'])\n",
        "print('Recall:', dtc_eval['rec'])\n",
        "print('F1 Score:', dtc_eval['f1'])\n",
        "print('Area Under Curve:', dtc_eval['auc'])\n",
        "print('Confusion Matrix:\\n', dtc_eval['cm'])"
      ],
      "metadata": {
        "colab": {
          "base_uri": "https://localhost:8080/"
        },
        "id": "_y2c_Bx-xKUS",
        "outputId": "d1d90830-bc62-45fa-cab5-16fe04121882"
      },
      "execution_count": 11,
      "outputs": [
        {
          "output_type": "stream",
          "name": "stdout",
          "text": [
            "Accuracy: 0.9294117647058824\n",
            "Precision: 0.6363636363636364\n",
            "Recall: 0.7777777777777778\n",
            "F1 Score: 0.7000000000000001\n",
            "Area Under Curve: 0.8625730994152047\n",
            "Confusion Matrix:\n",
            " [[72  4]\n",
            " [ 2  7]]\n"
          ]
        }
      ]
    },
    {
      "cell_type": "markdown",
      "source": [
        "# Random Forest"
      ],
      "metadata": {
        "id": "rymBZvVszLJK"
      }
    },
    {
      "cell_type": "code",
      "source": [
        "from sklearn.ensemble import RandomForestClassifier\n",
        "\n",
        "# Building Random Forest model \n",
        "rf = RandomForestClassifier(random_state=42)\n",
        "rf.fit(X_scaled_train, y_train)\n",
        "\n",
        "# Evaluate Model\n",
        "rf_eval = evaluate_model(rf, X_scaled_val, y_val)\n",
        "\n",
        "# Print result\n",
        "print('Accuracy:', rf_eval['acc'])\n",
        "print('Precision:', rf_eval['prec'])\n",
        "print('Recall:', rf_eval['rec'])\n",
        "print('F1 Score:', rf_eval['f1'])\n",
        "print('Area Under Curve:', rf_eval['auc'])\n",
        "print('Confusion Matrix:\\n', rf_eval['cm'])"
      ],
      "metadata": {
        "colab": {
          "base_uri": "https://localhost:8080/"
        },
        "id": "-qEDXokhxwt1",
        "outputId": "500d66b7-1c4b-43c8-83d3-db83a24e3585"
      },
      "execution_count": 12,
      "outputs": [
        {
          "output_type": "stream",
          "name": "stdout",
          "text": [
            "Accuracy: 0.9294117647058824\n",
            "Precision: 1.0\n",
            "Recall: 0.3333333333333333\n",
            "F1 Score: 0.5\n",
            "Area Under Curve: 0.9597953216374269\n",
            "Confusion Matrix:\n",
            " [[76  0]\n",
            " [ 6  3]]\n"
          ]
        }
      ]
    },
    {
      "cell_type": "markdown",
      "source": [
        "# KNN"
      ],
      "metadata": {
        "id": "xK6hmEv0zdjP"
      }
    },
    {
      "cell_type": "code",
      "source": [
        "from sklearn.neighbors import KNeighborsClassifier\n",
        "\n",
        "# Building KNN model \n",
        "knn = KNeighborsClassifier()\n",
        "knn.fit(X_scaled_train, y_train)\n",
        "\n",
        "# Evaluate Model\n",
        "knn_eval = evaluate_model(knn, X_scaled_val, y_val)\n",
        "\n",
        "# Print result\n",
        "print('Accuracy:', knn_eval['acc'])\n",
        "print('Precision:', knn_eval['prec'])\n",
        "print('Recall:', knn_eval['rec'])\n",
        "print('F1 Score:', knn_eval['f1'])\n",
        "print('Area Under Curve:', knn_eval['auc'])\n",
        "print('Confusion Matrix:\\n', knn_eval['cm'])"
      ],
      "metadata": {
        "colab": {
          "base_uri": "https://localhost:8080/"
        },
        "id": "tTvdppQdzWJ4",
        "outputId": "c7236094-3bbc-464b-8348-2561d4dda5be"
      },
      "execution_count": 13,
      "outputs": [
        {
          "output_type": "stream",
          "name": "stdout",
          "text": [
            "Accuracy: 0.9058823529411765\n",
            "Precision: 0.5714285714285714\n",
            "Recall: 0.4444444444444444\n",
            "F1 Score: 0.5\n",
            "Area Under Curve: 0.8837719298245613\n",
            "Confusion Matrix:\n",
            " [[73  3]\n",
            " [ 5  4]]\n"
          ]
        }
      ]
    },
    {
      "cell_type": "markdown",
      "source": [
        "# Model Comparison"
      ],
      "metadata": {
        "id": "6bwwENBh0LI8"
      }
    },
    {
      "cell_type": "code",
      "source": [
        "# Initialize figure with two plots\n",
        "fig,(ax1,ax2)=plt.subplots(1,2)\n",
        "fig.suptitle('Model Comparison', fontsize=16,fontweight='bold')\n",
        "fig.set_figheight(7)\n",
        "fig.set_figwidth(14)\n",
        "fig.set_facecolor('white')\n",
        "\n",
        "# First plot\n",
        "## set bar size\n",
        "barWidth = 0.2\n",
        "lr_score = [lr_eval['acc'], lr_eval['prec'], lr_eval['rec'], lr_eval['f1']]\n",
        "dtc_score = [dtc_eval['acc'], dtc_eval['prec'], dtc_eval['rec'], dtc_eval['f1']]\n",
        "rf_score = [rf_eval['acc'], rf_eval['prec'], rf_eval['rec'], rf_eval['f1']]\n",
        "knn_score = [knn_eval['acc'], knn_eval['prec'], knn_eval['rec'], knn_eval['f1']]\n",
        "\n",
        "## Set position of bar on X axis\n",
        "r1 = np.arange(len(dtc_score))\n",
        "r2 = [x + barWidth for x in r1]\n",
        "r3 = [x + barWidth for x in r2]\n",
        "r4 = [x + barWidth for x in r3]\n",
        "\n",
        "## Make the plot\n",
        "ax1.bar(r1, lr_score, width=barWidth, edgecolor='white', label='Logistic Regression')\n",
        "ax1.bar(r2, dtc_score, width=barWidth, edgecolor='white', label='Decision Tree')\n",
        "ax1.bar(r3, rf_score, width=barWidth, edgecolor='white', label='Random Forest')\n",
        "ax1.bar(r4, knn_score, width=barWidth, edgecolor='white', label='K-Nearest Neighbors')\n",
        "\n",
        "## Configure x and y axis\n",
        "ax1.set_xlabel('Metrics', fontweight='bold')\n",
        "labels = ['Accuracy', 'Precision', 'Recall', 'F1']\n",
        "ax1.set_xticks([r + (barWidth * 1.5) for r in range(len(dtc_score))], )\n",
        "ax1.set_xticklabels(labels)\n",
        "ax1.set_ylabel('Score', fontweight='bold')\n",
        "ax1.set_ylim(0, 1)\n",
        "\n",
        "## Create legend & title\n",
        "ax1.set_title('Evaluation Metrics', fontsize=14, fontweight='bold')\n",
        "ax1.legend()\n",
        "\n",
        "# Second plot\n",
        "## Comparing ROC Curve\n",
        "ax2.plot(lr_eval['fpr'], lr_eval['tpr'], label='Logistic Regression, auc = {:0.5f}'.format(lr_eval['auc']))\n",
        "ax2.plot(dtc_eval['fpr'], dtc_eval['tpr'], label='Decision Tree, auc = {:0.5f}'.format(dtc_eval['auc']))\n",
        "ax2.plot(rf_eval['fpr'], rf_eval['tpr'], label='Random Forest, auc = {:0.5f}'.format(rf_eval['auc']))\n",
        "ax2.plot(knn_eval['fpr'], knn_eval['tpr'], label='K-Nearest Nieghbor, auc = {:0.5f}'.format(knn_eval['auc']))\n",
        "\n",
        "## Configure x and y axis\n",
        "ax2.set_xlabel('False Positive Rate', fontweight='bold')\n",
        "ax2.set_ylabel('True Positive Rate', fontweight='bold')\n",
        "\n",
        "## Create legend & title\n",
        "ax2.set_title('ROC Curve', fontsize=14, fontweight='bold')\n",
        "ax2.legend(loc=4)\n",
        "\n",
        "plt.show()"
      ],
      "metadata": {
        "colab": {
          "base_uri": "https://localhost:8080/",
          "height": 493
        },
        "id": "-DuV666ezkAP",
        "outputId": "7bc53ee4-5d67-4719-efac-f3d94f4517bb"
      },
      "execution_count": 14,
      "outputs": [
        {
          "output_type": "display_data",
          "data": {
            "text/plain": [
              "<Figure size 1008x504 with 2 Axes>"
            ],
            "image/png": "[encoded data removed]"
          },
          "metadata": {}
        }
      ]
    },
    {
      "cell_type": "markdown",
      "source": [
        "# Model Optimisation\n",
        "\n",
        "we will try to optimise our RandomForest model by tuning the hyper parameters. \n",
        " \n",
        "After finding the optimal parameters, we will then evaluate our new model by comparing it against our base line model before."
      ],
      "metadata": {
        "id": "y1ttI-If4xeH"
      }
    },
    {
      "cell_type": "code",
      "source": [
        "from sklearn.model_selection import GridSearchCV\n",
        "\n",
        "# Create the parameter grid based on the results of random search \n",
        "param_grid = {\n",
        "    'criterion' : ['gini', 'entropy'],\n",
        "    'max_depth' : [2,4,6,8,10,12],\n",
        "    'min_samples_leaf' : [1,2,3,4,5]\n",
        "}\n",
        "\n",
        "# Create a base model\n",
        "dtc_grids = tree.DecisionTreeClassifier(random_state=42)\n",
        "\n",
        "# Initiate the grid search model\n",
        "grid_search = GridSearchCV(estimator=dtc_grids, param_grid=param_grid, scoring='f1',\n",
        "                           cv=5, n_jobs=-1, verbose=2)\n",
        "\n",
        "# Scaler\n",
        "feature_scaled = scaler.fit_transform(feature)\n",
        "\n",
        "# Fit the grid search to the data\n",
        "grid_search.fit(feature_scaled, target)\n",
        "\n",
        "grid_search.best_params_"
      ],
      "metadata": {
        "colab": {
          "base_uri": "https://localhost:8080/"
        },
        "id": "fMPw7M3W25g5",
        "outputId": "50cec11e-bf71-4960-90a1-da1ff2bbeeb6"
      },
      "execution_count": 27,
      "outputs": [
        {
          "output_type": "stream",
          "name": "stdout",
          "text": [
            "Fitting 5 folds for each of 60 candidates, totalling 300 fits\n"
          ]
        },
        {
          "output_type": "execute_result",
          "data": {
            "text/plain": [
              "{'criterion': 'gini', 'max_depth': 6, 'min_samples_leaf': 4}"
            ]
          },
          "metadata": {},
          "execution_count": 27
        }
      ]
    },
    {
      "cell_type": "markdown",
      "source": [
        "# Evaluating Optimised Model\n",
        "\n",
        "After finding the best parameter for the model we can access the best_estimator_ attribute of the GridSearchCV object to save our optimised model into variable called best_grid. We will calculate the 6 evaluation metrics using our helper function to compare it with our base model on the next step."
      ],
      "metadata": {
        "id": "KmsBbjtj5n9e"
      }
    },
    {
      "cell_type": "code",
      "source": [
        "# Select best model with best fit\n",
        "best_grid = grid_search.best_estimator_\n",
        "\n",
        "# Evaluate Model\n",
        "best_grid_eval = evaluate_model(best_grid, X_scaled_val, y_val)\n",
        "\n",
        "# Print result\n",
        "print('Accuracy:', best_grid_eval['acc'])\n",
        "print('Precision:', best_grid_eval['prec'])\n",
        "print('Recall:', best_grid_eval['rec'])\n",
        "print('F1 Score:', best_grid_eval['f1'])\n",
        "print('Area Under Curve:', best_grid_eval['auc'])\n",
        "print('Confusion Matrix:\\n', best_grid_eval['cm'])"
      ],
      "metadata": {
        "colab": {
          "base_uri": "https://localhost:8080/"
        },
        "id": "oLm_PfoU3l3m",
        "outputId": "c9aefc4f-b578-482e-fb91-5bbeb890b3a9"
      },
      "execution_count": 28,
      "outputs": [
        {
          "output_type": "stream",
          "name": "stdout",
          "text": [
            "Accuracy: 0.9529411764705882\n",
            "Precision: 0.7777777777777778\n",
            "Recall: 0.7777777777777778\n",
            "F1 Score: 0.7777777777777778\n",
            "Area Under Curve: 0.9897660818713451\n",
            "Confusion Matrix:\n",
            " [[74  2]\n",
            " [ 2  7]]\n"
          ]
        }
      ]
    },
    {
      "cell_type": "code",
      "source": [
        "# Intitialize figure with two plots\n",
        "fig, (ax1, ax2) = plt.subplots(1, 2)\n",
        "fig.suptitle('Model Comparison', fontsize=16, fontweight='bold')\n",
        "fig.set_figheight(7)\n",
        "fig.set_figwidth(14)\n",
        "fig.set_facecolor('white')\n",
        "\n",
        "# First plot\n",
        "## set bar size\n",
        "barWidth = 0.2\n",
        "rf_score = [rf_eval['acc'], rf_eval['prec'], rf_eval['rec'], rf_eval['f1']]\n",
        "best_grid_score = [best_grid_eval['acc'], best_grid_eval['prec'], best_grid_eval['rec'], best_grid_eval['f1']]\n",
        "\n",
        "## Set position of bar on X axis\n",
        "r1 = np.arange(len(rf_score))\n",
        "r2 = [x + barWidth for x in r1]\n",
        "\n",
        "## Make the plot\n",
        "ax1.bar(r1, rf_score, width=barWidth, edgecolor='white', label='Decision Tree (Base Line)')\n",
        "ax1.bar(r2, best_grid_score, width=barWidth, edgecolor='white', label='Decision Tree (Optimized)')\n",
        "\n",
        "## Add xticks on the middle of the group bars\n",
        "ax1.set_xlabel('Metrics', fontweight='bold')\n",
        "labels = ['Accuracy', 'Precision', 'Recall', 'F1']\n",
        "ax1.set_xticks([r + (barWidth * 0.5) for r in range(len(dtc_score))], )\n",
        "ax1.set_xticklabels(labels)\n",
        "ax1.set_ylabel('Score', fontweight='bold')\n",
        "# ax1.set_ylim(0, 1)\n",
        "\n",
        "## Create legend & Show graphic\n",
        "ax1.set_title('Evaluation Metrics', fontsize=14, fontweight='bold')\n",
        "ax1.legend()\n",
        "\n",
        "# Second plot\n",
        "## Comparing ROC Curve\n",
        "ax2.plot(rf_eval['fpr'], rf_eval['tpr'], label='Decision Tree, auc = {:0.5f}'.format(rf_eval['auc']))\n",
        "ax2.plot(best_grid_eval['fpr'], best_grid_eval['tpr'], label='Decision Tree, auc = {:0.5f}'.format(best_grid_eval['auc']))\n",
        "\n",
        "ax2.set_title('ROC Curve', fontsize=14, fontweight='bold')\n",
        "ax2.set_xlabel('False Positive Rate', fontweight='bold')\n",
        "ax2.set_ylabel('True Positive Rate', fontweight='bold')\n",
        "ax2.legend(loc=4)\n",
        "\n",
        "plt.show()\n",
        "\n",
        "print('Change of {:0.2f}% on accuracy.'.format(100 * ((best_grid_eval['acc'] - rf_eval['acc']) / rf_eval['acc'])))\n",
        "print('Change of {:0.2f}% on precision.'.format(100 * ((best_grid_eval['prec'] - rf_eval['prec']) / rf_eval['prec'])))\n",
        "print('Change of {:0.2f}% on recall.'.format(100 * ((best_grid_eval['rec'] - rf_eval['rec']) / rf_eval['rec'])))\n",
        "print('Change of {:0.2f}% on F1 score.'.format(100 * ((best_grid_eval['f1'] - rf_eval['f1']) / rf_eval['f1'])))\n",
        "print('Change of {:0.2f}% on AUC.'.format(100 * ((best_grid_eval['auc'] - rf_eval['auc']) / rf_eval['auc'])))"
      ],
      "metadata": {
        "colab": {
          "base_uri": "https://localhost:8080/",
          "height": 582
        },
        "id": "nJuV81Gr7brF",
        "outputId": "25633dc7-29f1-4c78-e144-cf5290c651ce"
      },
      "execution_count": 29,
      "outputs": [
        {
          "output_type": "display_data",
          "data": {
            "text/plain": [
              "<Figure size 1008x504 with 2 Axes>"
            ],
            "image/png": "[encoded data removed]"
          },
          "metadata": {}
        },
        {
          "output_type": "stream",
          "name": "stdout",
          "text": [
            "Change of 2.53% on accuracy.\n",
            "Change of -22.22% on precision.\n",
            "Change of 133.33% on recall.\n",
            "Change of 55.56% on F1 score.\n",
            "Change of 3.12% on AUC.\n"
          ]
        }
      ]
    },
    {
      "cell_type": "markdown",
      "source": [
        "# Predict"
      ],
      "metadata": {
        "id": "vNkJu_QA0CbS"
      }
    },
    {
      "cell_type": "code",
      "source": [
        "# Predict test dataset to find optimal autonomous district\n",
        "pred = best_grid.predict(X_scaled_test)"
      ],
      "metadata": {
        "id": "BAbDfGm87vqP"
      },
      "execution_count": 30,
      "outputs": []
    },
    {
      "cell_type": "code",
      "source": [
        "df_test['pred'] = pred"
      ],
      "metadata": {
        "id": "vl-0rd5dG9Cy"
      },
      "execution_count": 31,
      "outputs": []
    },
    {
      "cell_type": "code",
      "source": [
        "df_1 = df_test[df_test['pred']==1]\n",
        "df_1"
      ],
      "metadata": {
        "id": "IFHMElFdHo-H",
        "colab": {
          "base_uri": "https://localhost:8080/",
          "height": 379
        },
        "outputId": "735d8a4f-a786-4c70-b371-4f2ae4359fcd"
      },
      "execution_count": 32,
      "outputs": [
        {
          "output_type": "execute_result",
          "data": {
            "text/plain": [
              "   서울시 구    가구원수  면적  반려동물 가구수    반려동물 가구밀도  폐사안락사수   폐사안락사 비율  보호소 수  \\\n",
              "0    송파구  255766  18     55233  3068.500000     369  20.500000     26   \n",
              "8    마포구  160681  15     34698  2313.200000     256  17.066667     16   \n",
              "10   광진구  152090  11     32843  2985.727273     270  24.545455     15   \n",
              "11    중구   55093   2     10514  5257.000000     133  66.500000     11   \n",
              "13   성북구  179660  13     31072  2390.153846     411  31.615385     20   \n",
              "14   관악구  248959  18     41317  2295.388889     229  12.722222     21   \n",
              "18   동작구  167766   7     35392  5056.000000     140  20.000000     15   \n",
              "19  동대문구  150373   8     23752  2969.000000     589  73.625000     14   \n",
              "\n",
              "      보호소 밀도  동물병원약국개수  동물병원약국 밀도  pred  \n",
              "0   1.444444       207  11.500000     1  \n",
              "8   1.066667       139   9.266667     1  \n",
              "10  1.363636       113  10.272727     1  \n",
              "11  5.500000        88  44.000000     1  \n",
              "13  1.538462       137  10.538462     1  \n",
              "14  1.166667       140   7.777778     1  \n",
              "18  2.142857        98  14.000000     1  \n",
              "19  1.750000        87  10.875000     1  "
            ],
            "text/html": [
              "\n",
              "  <div id=\"df-63bc5398-0770-4396-a4a4-634d15dbe841\">\n",
              "    <div class=\"colab-df-container\">\n",
              "      <div>\n",
              "<style scoped>\n",
              "    .dataframe tbody tr th:only-of-type {\n",
              "        vertical-align: middle;\n",
              "    }\n",
              "\n",
              "    .dataframe tbody tr th {\n",
              "        vertical-align: top;\n",
              "    }\n",
              "\n",
              "    .dataframe thead th {\n",
              "        text-align: right;\n",
              "    }\n",
              "</style>\n",
              "<table border=\"1\" class=\"dataframe\">\n",
              "  <thead>\n",
              "    <tr style=\"text-align: right;\">\n",
              "      <th></th>\n",
              "      <th>서울시 구</th>\n",
              "      <th>가구원수</th>\n",
              "      <th>면적</th>\n",
              "      <th>반려동물 가구수</th>\n",
              "      <th>반려동물 가구밀도</th>\n",
              "      <th>폐사안락사수</th>\n",
              "      <th>폐사안락사 비율</th>\n",
              "      <th>보호소 수</th>\n",
              "      <th>보호소 밀도</th>\n",
              "      <th>동물병원약국개수</th>\n",
              "      <th>동물병원약국 밀도</th>\n",
              "      <th>pred</th>\n",
              "    </tr>\n",
              "  </thead>\n",
              "  <tbody>\n",
              "    <tr>\n",
              "      <th>0</th>\n",
              "      <td>송파구</td>\n",
              "      <td>255766</td>\n",
              "      <td>18</td>\n",
              "      <td>55233</td>\n",
              "      <td>3068.500000</td>\n",
              "      <td>369</td>\n",
              "      <td>20.500000</td>\n",
              "      <td>26</td>\n",
              "      <td>1.444444</td>\n",
              "      <td>207</td>\n",
              "      <td>11.500000</td>\n",
              "      <td>1</td>\n",
              "    </tr>\n",
              "    <tr>\n",
              "      <th>8</th>\n",
              "      <td>마포구</td>\n",
              "      <td>160681</td>\n",
              "      <td>15</td>\n",
              "      <td>34698</td>\n",
              "      <td>2313.200000</td>\n",
              "      <td>256</td>\n",
              "      <td>17.066667</td>\n",
              "      <td>16</td>\n",
              "      <td>1.066667</td>\n",
              "      <td>139</td>\n",
              "      <td>9.266667</td>\n",
              "      <td>1</td>\n",
              "    </tr>\n",
              "    <tr>\n",
              "      <th>10</th>\n",
              "      <td>광진구</td>\n",
              "      <td>152090</td>\n",
              "      <td>11</td>\n",
              "      <td>32843</td>\n",
              "      <td>2985.727273</td>\n",
              "      <td>270</td>\n",
              "      <td>24.545455</td>\n",
              "      <td>15</td>\n",
              "      <td>1.363636</td>\n",
              "      <td>113</td>\n",
              "      <td>10.272727</td>\n",
              "      <td>1</td>\n",
              "    </tr>\n",
              "    <tr>\n",
              "      <th>11</th>\n",
              "      <td>중구</td>\n",
              "      <td>55093</td>\n",
              "      <td>2</td>\n",
              "      <td>10514</td>\n",
              "      <td>5257.000000</td>\n",
              "      <td>133</td>\n",
              "      <td>66.500000</td>\n",
              "      <td>11</td>\n",
              "      <td>5.500000</td>\n",
              "      <td>88</td>\n",
              "      <td>44.000000</td>\n",
              "      <td>1</td>\n",
              "    </tr>\n",
              "    <tr>\n",
              "      <th>13</th>\n",
              "      <td>성북구</td>\n",
              "      <td>179660</td>\n",
              "      <td>13</td>\n",
              "      <td>31072</td>\n",
              "      <td>2390.153846</td>\n",
              "      <td>411</td>\n",
              "      <td>31.615385</td>\n",
              "      <td>20</td>\n",
              "      <td>1.538462</td>\n",
              "      <td>137</td>\n",
              "      <td>10.538462</td>\n",
              "      <td>1</td>\n",
              "    </tr>\n",
              "    <tr>\n",
              "      <th>14</th>\n",
              "      <td>관악구</td>\n",
              "      <td>248959</td>\n",
              "      <td>18</td>\n",
              "      <td>41317</td>\n",
              "      <td>2295.388889</td>\n",
              "      <td>229</td>\n",
              "      <td>12.722222</td>\n",
              "      <td>21</td>\n",
              "      <td>1.166667</td>\n",
              "      <td>140</td>\n",
              "      <td>7.777778</td>\n",
              "      <td>1</td>\n",
              "    </tr>\n",
              "    <tr>\n",
              "      <th>18</th>\n",
              "      <td>동작구</td>\n",
              "      <td>167766</td>\n",
              "      <td>7</td>\n",
              "      <td>35392</td>\n",
              "      <td>5056.000000</td>\n",
              "      <td>140</td>\n",
              "      <td>20.000000</td>\n",
              "      <td>15</td>\n",
              "      <td>2.142857</td>\n",
              "      <td>98</td>\n",
              "      <td>14.000000</td>\n",
              "      <td>1</td>\n",
              "    </tr>\n",
              "    <tr>\n",
              "      <th>19</th>\n",
              "      <td>동대문구</td>\n",
              "      <td>150373</td>\n",
              "      <td>8</td>\n",
              "      <td>23752</td>\n",
              "      <td>2969.000000</td>\n",
              "      <td>589</td>\n",
              "      <td>73.625000</td>\n",
              "      <td>14</td>\n",
              "      <td>1.750000</td>\n",
              "      <td>87</td>\n",
              "      <td>10.875000</td>\n",
              "      <td>1</td>\n",
              "    </tr>\n",
              "  </tbody>\n",
              "</table>\n",
              "</div>\n",
              "      <button class=\"colab-df-convert\" onclick=\"convertToInteractive('df-63bc5398-0770-4396-a4a4-634d15dbe841')\"\n",
              "              title=\"Convert this dataframe to an interactive table.\"\n",
              "              style=\"display:none;\">\n",
              "        \n",
              "  <svg xmlns=\"http://www.w3.org/2000/svg\" height=\"24px\"viewBox=\"0 0 24 24\"\n",
              "       width=\"24px\">\n",
              "    <path d=\"M0 0h24v24H0V0z\" fill=\"none\"/>\n",
              "    <path d=\"M18.56 5.44l.94 2.06.94-2.06 2.06-.94-2.06-.94-.94-2.06-.94 2.06-2.06.94zm-11 1L8.5 8.5l.94-2.06 2.06-.94-2.06-.94L8.5 2.5l-.94 2.06-2.06.94zm10 10l.94 2.06.94-2.06 2.06-.94-2.06-.94-.94-2.06-.94 2.06-2.06.94z\"/><path d=\"M17.41 7.96l-1.37-1.37c-.4-.4-.92-.59-1.43-.59-.52 0-1.04.2-1.43.59L10.3 9.45l-7.72 7.72c-.78.78-.78 2.05 0 2.83L4 21.41c.39.39.9.59 1.41.59.51 0 1.02-.2 1.41-.59l7.78-7.78 2.81-2.81c.8-.78.8-2.07 0-2.86zM5.41 20L4 18.59l7.72-7.72 1.47 1.35L5.41 20z\"/>\n",
              "  </svg>\n",
              "      </button>\n",
              "      \n",
              "  <style>\n",
              "    .colab-df-container {\n",
              "      display:flex;\n",
              "      flex-wrap:wrap;\n",
              "      gap: 12px;\n",
              "    }\n",
              "\n",
              "    .colab-df-convert {\n",
              "      background-color: #E8F0FE;\n",
              "      border: none;\n",
              "      border-radius: 50%;\n",
              "      cursor: pointer;\n",
              "      display: none;\n",
              "      fill: #1967D2;\n",
              "      height: 32px;\n",
              "      padding: 0 0 0 0;\n",
              "      width: 32px;\n",
              "    }\n",
              "\n",
              "    .colab-df-convert:hover {\n",
              "      background-color: #E2EBFA;\n",
              "      box-shadow: 0px 1px 2px rgba(60, 64, 67, 0.3), 0px 1px 3px 1px rgba(60, 64, 67, 0.15);\n",
              "      fill: #174EA6;\n",
              "    }\n",
              "\n",
              "    [theme=dark] .colab-df-convert {\n",
              "      background-color: #3B4455;\n",
              "      fill: #D2E3FC;\n",
              "    }\n",
              "\n",
              "    [theme=dark] .colab-df-convert:hover {\n",
              "      background-color: #434B5C;\n",
              "      box-shadow: 0px 1px 3px 1px rgba(0, 0, 0, 0.15);\n",
              "      filter: drop-shadow(0px 1px 2px rgba(0, 0, 0, 0.3));\n",
              "      fill: #FFFFFF;\n",
              "    }\n",
              "  </style>\n",
              "\n",
              "      <script>\n",
              "        const buttonEl =\n",
              "          document.querySelector('#df-63bc5398-0770-4396-a4a4-634d15dbe841 button.colab-df-convert');\n",
              "        buttonEl.style.display =\n",
              "          google.colab.kernel.accessAllowed ? 'block' : 'none';\n",
              "\n",
              "        async function convertToInteractive(key) {\n",
              "          const element = document.querySelector('#df-63bc5398-0770-4396-a4a4-634d15dbe841');\n",
              "          const dataTable =\n",
              "            await google.colab.kernel.invokeFunction('convertToInteractive',\n",
              "                                                     [key], {});\n",
              "          if (!dataTable) return;\n",
              "\n",
              "          const docLinkHtml = 'Like what you see? Visit the ' +\n",
              "            '<a target=\"_blank\" href=https://colab.research.google.com/notebooks/data_table.ipynb>data table notebook</a>'\n",
              "            + ' to learn more about interactive tables.';\n",
              "          element.innerHTML = '';\n",
              "          dataTable['output_type'] = 'display_data';\n",
              "          await google.colab.output.renderOutput(dataTable, element);\n",
              "          const docLink = document.createElement('div');\n",
              "          docLink.innerHTML = docLinkHtml;\n",
              "          element.appendChild(docLink);\n",
              "        }\n",
              "      </script>\n",
              "    </div>\n",
              "  </div>\n",
              "  "
            ]
          },
          "metadata": {},
          "execution_count": 32
        }
      ]
    },
    {
      "cell_type": "code",
      "source": [
        "df_0 = df_test[df_test['pred']==0]\n",
        "df_0"
      ],
      "metadata": {
        "id": "Poqd-qmEH1_4",
        "colab": {
          "base_uri": "https://localhost:8080/",
          "height": 679
        },
        "outputId": "a94e725c-1bbf-4923-e471-f160dbd819f1"
      },
      "execution_count": 33,
      "outputs": [
        {
          "output_type": "execute_result",
          "data": {
            "text/plain": [
              "   서울시 구    가구원수  면적  반려동물 가구수    반려동물 가구밀도  폐사안락사수   폐사안락사 비율  보호소 수  \\\n",
              "1    구로구  164083  14     31988  2284.857143       6   0.428571      5   \n",
              "2    금천구  103432   8     18509  2313.625000       0   0.000000      0   \n",
              "3    강서구  244097  30     49785  1659.500000       0   0.000000      0   \n",
              "4    종로구   63414  17     11850   697.058824     243  14.294118     16   \n",
              "5    은평구  190631  21     35257  1678.904762       0   0.000000      0   \n",
              "6    강동구  177148  15     34002  2266.800000     123   8.200000     18   \n",
              "7    강남구  208833  30     44682  1489.400000       0   0.000000      0   \n",
              "9    노원구  202695  25     48231  1929.240000     233   9.320000     19   \n",
              "12   성동구  122186   8     23328  2916.000000       0   0.000000      0   \n",
              "15  서대문구  133112  11     26348  2395.272727       0   0.000000      0   \n",
              "16   용산구   95714  12     20763  1730.250000       0   0.000000      0   \n",
              "17   서초구  156123  37     33714   911.189189       5   0.135135      3   \n",
              "20  영등포구  162391  15     35716  2381.066667       0   0.000000      0   \n",
              "21   도봉구  127362  12     25846  2153.833333     239  19.916667     14   \n",
              "22   중랑구  164832   9     31640  3515.555556       0   0.000000      0   \n",
              "23   양천구  166044   8     35026  4378.250000       0   0.000000      0   \n",
              "24   강북구  129805  16     24786  1549.125000     418  26.125000     13   \n",
              "\n",
              "      보호소 밀도  동물병원약국개수  동물병원약국 밀도  pred  \n",
              "1   0.357143       101   7.214286     0  \n",
              "2   0.000000        58   7.250000     0  \n",
              "3   0.000000       144   4.800000     0  \n",
              "4   0.941176       111   6.529412     0  \n",
              "5   0.000000        94   4.476190     0  \n",
              "6   1.200000       131   8.733333     0  \n",
              "7   0.000000       176   5.866667     0  \n",
              "9   0.760000       137   5.480000     0  \n",
              "12  0.000000       109  13.625000     0  \n",
              "15  0.000000        88   8.000000     0  \n",
              "16  0.000000        87   7.250000     0  \n",
              "17  0.081081       141   3.810811     0  \n",
              "20  0.000000       157  10.466667     0  \n",
              "21  1.166667        81   6.750000     0  \n",
              "22  0.000000        96  10.666667     0  \n",
              "23  0.000000       158  19.750000     0  \n",
              "24  0.812500       100   6.250000     0  "
            ],
            "text/html": [
              "\n",
              "  <div id=\"df-2edd7b34-34b4-49c1-99b1-79df982b0fae\">\n",
              "    <div class=\"colab-df-container\">\n",
              "      <div>\n",
              "<style scoped>\n",
              "    .dataframe tbody tr th:only-of-type {\n",
              "        vertical-align: middle;\n",
              "    }\n",
              "\n",
              "    .dataframe tbody tr th {\n",
              "        vertical-align: top;\n",
              "    }\n",
              "\n",
              "    .dataframe thead th {\n",
              "        text-align: right;\n",
              "    }\n",
              "</style>\n",
              "<table border=\"1\" class=\"dataframe\">\n",
              "  <thead>\n",
              "    <tr style=\"text-align: right;\">\n",
              "      <th></th>\n",
              "      <th>서울시 구</th>\n",
              "      <th>가구원수</th>\n",
              "      <th>면적</th>\n",
              "      <th>반려동물 가구수</th>\n",
              "      <th>반려동물 가구밀도</th>\n",
              "      <th>폐사안락사수</th>\n",
              "      <th>폐사안락사 비율</th>\n",
              "      <th>보호소 수</th>\n",
              "      <th>보호소 밀도</th>\n",
              "      <th>동물병원약국개수</th>\n",
              "      <th>동물병원약국 밀도</th>\n",
              "      <th>pred</th>\n",
              "    </tr>\n",
              "  </thead>\n",
              "  <tbody>\n",
              "    <tr>\n",
              "      <th>1</th>\n",
              "      <td>구로구</td>\n",
              "      <td>164083</td>\n",
              "      <td>14</td>\n",
              "      <td>31988</td>\n",
              "      <td>2284.857143</td>\n",
              "      <td>6</td>\n",
              "      <td>0.428571</td>\n",
              "      <td>5</td>\n",
              "      <td>0.357143</td>\n",
              "      <td>101</td>\n",
              "      <td>7.214286</td>\n",
              "      <td>0</td>\n",
              "    </tr>\n",
              "    <tr>\n",
              "      <th>2</th>\n",
              "      <td>금천구</td>\n",
              "      <td>103432</td>\n",
              "      <td>8</td>\n",
              "      <td>18509</td>\n",
              "      <td>2313.625000</td>\n",
              "      <td>0</td>\n",
              "      <td>0.000000</td>\n",
              "      <td>0</td>\n",
              "      <td>0.000000</td>\n",
              "      <td>58</td>\n",
              "      <td>7.250000</td>\n",
              "      <td>0</td>\n",
              "    </tr>\n",
              "    <tr>\n",
              "      <th>3</th>\n",
              "      <td>강서구</td>\n",
              "      <td>244097</td>\n",
              "      <td>30</td>\n",
              "      <td>49785</td>\n",
              "      <td>1659.500000</td>\n",
              "      <td>0</td>\n",
              "      <td>0.000000</td>\n",
              "      <td>0</td>\n",
              "      <td>0.000000</td>\n",
              "      <td>144</td>\n",
              "      <td>4.800000</td>\n",
              "      <td>0</td>\n",
              "    </tr>\n",
              "    <tr>\n",
              "      <th>4</th>\n",
              "      <td>종로구</td>\n",
              "      <td>63414</td>\n",
              "      <td>17</td>\n",
              "      <td>11850</td>\n",
              "      <td>697.058824</td>\n",
              "      <td>243</td>\n",
              "      <td>14.294118</td>\n",
              "      <td>16</td>\n",
              "      <td>0.941176</td>\n",
              "      <td>111</td>\n",
              "      <td>6.529412</td>\n",
              "      <td>0</td>\n",
              "    </tr>\n",
              "    <tr>\n",
              "      <th>5</th>\n",
              "      <td>은평구</td>\n",
              "      <td>190631</td>\n",
              "      <td>21</td>\n",
              "      <td>35257</td>\n",
              "      <td>1678.904762</td>\n",
              "      <td>0</td>\n",
              "      <td>0.000000</td>\n",
              "      <td>0</td>\n",
              "      <td>0.000000</td>\n",
              "      <td>94</td>\n",
              "      <td>4.476190</td>\n",
              "      <td>0</td>\n",
              "    </tr>\n",
              "    <tr>\n",
              "      <th>6</th>\n",
              "      <td>강동구</td>\n",
              "      <td>177148</td>\n",
              "      <td>15</td>\n",
              "      <td>34002</td>\n",
              "      <td>2266.800000</td>\n",
              "      <td>123</td>\n",
              "      <td>8.200000</td>\n",
              "      <td>18</td>\n",
              "      <td>1.200000</td>\n",
              "      <td>131</td>\n",
              "      <td>8.733333</td>\n",
              "      <td>0</td>\n",
              "    </tr>\n",
              "    <tr>\n",
              "      <th>7</th>\n",
              "      <td>강남구</td>\n",
              "      <td>208833</td>\n",
              "      <td>30</td>\n",
              "      <td>44682</td>\n",
              "      <td>1489.400000</td>\n",
              "      <td>0</td>\n",
              "      <td>0.000000</td>\n",
              "      <td>0</td>\n",
              "      <td>0.000000</td>\n",
              "      <td>176</td>\n",
              "      <td>5.866667</td>\n",
              "      <td>0</td>\n",
              "    </tr>\n",
              "    <tr>\n",
              "      <th>9</th>\n",
              "      <td>노원구</td>\n",
              "      <td>202695</td>\n",
              "      <td>25</td>\n",
              "      <td>48231</td>\n",
              "      <td>1929.240000</td>\n",
              "      <td>233</td>\n",
              "      <td>9.320000</td>\n",
              "      <td>19</td>\n",
              "      <td>0.760000</td>\n",
              "      <td>137</td>\n",
              "      <td>5.480000</td>\n",
              "      <td>0</td>\n",
              "    </tr>\n",
              "    <tr>\n",
              "      <th>12</th>\n",
              "      <td>성동구</td>\n",
              "      <td>122186</td>\n",
              "      <td>8</td>\n",
              "      <td>23328</td>\n",
              "      <td>2916.000000</td>\n",
              "      <td>0</td>\n",
              "      <td>0.000000</td>\n",
              "      <td>0</td>\n",
              "      <td>0.000000</td>\n",
              "      <td>109</td>\n",
              "      <td>13.625000</td>\n",
              "      <td>0</td>\n",
              "    </tr>\n",
              "    <tr>\n",
              "      <th>15</th>\n",
              "      <td>서대문구</td>\n",
              "      <td>133112</td>\n",
              "      <td>11</td>\n",
              "      <td>26348</td>\n",
              "      <td>2395.272727</td>\n",
              "      <td>0</td>\n",
              "      <td>0.000000</td>\n",
              "      <td>0</td>\n",
              "      <td>0.000000</td>\n",
              "      <td>88</td>\n",
              "      <td>8.000000</td>\n",
              "      <td>0</td>\n",
              "    </tr>\n",
              "    <tr>\n",
              "      <th>16</th>\n",
              "      <td>용산구</td>\n",
              "      <td>95714</td>\n",
              "      <td>12</td>\n",
              "      <td>20763</td>\n",
              "      <td>1730.250000</td>\n",
              "      <td>0</td>\n",
              "      <td>0.000000</td>\n",
              "      <td>0</td>\n",
              "      <td>0.000000</td>\n",
              "      <td>87</td>\n",
              "      <td>7.250000</td>\n",
              "      <td>0</td>\n",
              "    </tr>\n",
              "    <tr>\n",
              "      <th>17</th>\n",
              "      <td>서초구</td>\n",
              "      <td>156123</td>\n",
              "      <td>37</td>\n",
              "      <td>33714</td>\n",
              "      <td>911.189189</td>\n",
              "      <td>5</td>\n",
              "      <td>0.135135</td>\n",
              "      <td>3</td>\n",
              "      <td>0.081081</td>\n",
              "      <td>141</td>\n",
              "      <td>3.810811</td>\n",
              "      <td>0</td>\n",
              "    </tr>\n",
              "    <tr>\n",
              "      <th>20</th>\n",
              "      <td>영등포구</td>\n",
              "      <td>162391</td>\n",
              "      <td>15</td>\n",
              "      <td>35716</td>\n",
              "      <td>2381.066667</td>\n",
              "      <td>0</td>\n",
              "      <td>0.000000</td>\n",
              "      <td>0</td>\n",
              "      <td>0.000000</td>\n",
              "      <td>157</td>\n",
              "      <td>10.466667</td>\n",
              "      <td>0</td>\n",
              "    </tr>\n",
              "    <tr>\n",
              "      <th>21</th>\n",
              "      <td>도봉구</td>\n",
              "      <td>127362</td>\n",
              "      <td>12</td>\n",
              "      <td>25846</td>\n",
              "      <td>2153.833333</td>\n",
              "      <td>239</td>\n",
              "      <td>19.916667</td>\n",
              "      <td>14</td>\n",
              "      <td>1.166667</td>\n",
              "      <td>81</td>\n",
              "      <td>6.750000</td>\n",
              "      <td>0</td>\n",
              "    </tr>\n",
              "    <tr>\n",
              "      <th>22</th>\n",
              "      <td>중랑구</td>\n",
              "      <td>164832</td>\n",
              "      <td>9</td>\n",
              "      <td>31640</td>\n",
              "      <td>3515.555556</td>\n",
              "      <td>0</td>\n",
              "      <td>0.000000</td>\n",
              "      <td>0</td>\n",
              "      <td>0.000000</td>\n",
              "      <td>96</td>\n",
              "      <td>10.666667</td>\n",
              "      <td>0</td>\n",
              "    </tr>\n",
              "    <tr>\n",
              "      <th>23</th>\n",
              "      <td>양천구</td>\n",
              "      <td>166044</td>\n",
              "      <td>8</td>\n",
              "      <td>35026</td>\n",
              "      <td>4378.250000</td>\n",
              "      <td>0</td>\n",
              "      <td>0.000000</td>\n",
              "      <td>0</td>\n",
              "      <td>0.000000</td>\n",
              "      <td>158</td>\n",
              "      <td>19.750000</td>\n",
              "      <td>0</td>\n",
              "    </tr>\n",
              "    <tr>\n",
              "      <th>24</th>\n",
              "      <td>강북구</td>\n",
              "      <td>129805</td>\n",
              "      <td>16</td>\n",
              "      <td>24786</td>\n",
              "      <td>1549.125000</td>\n",
              "      <td>418</td>\n",
              "      <td>26.125000</td>\n",
              "      <td>13</td>\n",
              "      <td>0.812500</td>\n",
              "      <td>100</td>\n",
              "      <td>6.250000</td>\n",
              "      <td>0</td>\n",
              "    </tr>\n",
              "  </tbody>\n",
              "</table>\n",
              "</div>\n",
              "      <button class=\"colab-df-convert\" onclick=\"convertToInteractive('df-2edd7b34-34b4-49c1-99b1-79df982b0fae')\"\n",
              "              title=\"Convert this dataframe to an interactive table.\"\n",
              "              style=\"display:none;\">\n",
              "        \n",
              "  <svg xmlns=\"http://www.w3.org/2000/svg\" height=\"24px\"viewBox=\"0 0 24 24\"\n",
              "       width=\"24px\">\n",
              "    <path d=\"M0 0h24v24H0V0z\" fill=\"none\"/>\n",
              "    <path d=\"M18.56 5.44l.94 2.06.94-2.06 2.06-.94-2.06-.94-.94-2.06-.94 2.06-2.06.94zm-11 1L8.5 8.5l.94-2.06 2.06-.94-2.06-.94L8.5 2.5l-.94 2.06-2.06.94zm10 10l.94 2.06.94-2.06 2.06-.94-2.06-.94-.94-2.06-.94 2.06-2.06.94z\"/><path d=\"M17.41 7.96l-1.37-1.37c-.4-.4-.92-.59-1.43-.59-.52 0-1.04.2-1.43.59L10.3 9.45l-7.72 7.72c-.78.78-.78 2.05 0 2.83L4 21.41c.39.39.9.59 1.41.59.51 0 1.02-.2 1.41-.59l7.78-7.78 2.81-2.81c.8-.78.8-2.07 0-2.86zM5.41 20L4 18.59l7.72-7.72 1.47 1.35L5.41 20z\"/>\n",
              "  </svg>\n",
              "      </button>\n",
              "      \n",
              "  <style>\n",
              "    .colab-df-container {\n",
              "      display:flex;\n",
              "      flex-wrap:wrap;\n",
              "      gap: 12px;\n",
              "    }\n",
              "\n",
              "    .colab-df-convert {\n",
              "      background-color: #E8F0FE;\n",
              "      border: none;\n",
              "      border-radius: 50%;\n",
              "      cursor: pointer;\n",
              "      display: none;\n",
              "      fill: #1967D2;\n",
              "      height: 32px;\n",
              "      padding: 0 0 0 0;\n",
              "      width: 32px;\n",
              "    }\n",
              "\n",
              "    .colab-df-convert:hover {\n",
              "      background-color: #E2EBFA;\n",
              "      box-shadow: 0px 1px 2px rgba(60, 64, 67, 0.3), 0px 1px 3px 1px rgba(60, 64, 67, 0.15);\n",
              "      fill: #174EA6;\n",
              "    }\n",
              "\n",
              "    [theme=dark] .colab-df-convert {\n",
              "      background-color: #3B4455;\n",
              "      fill: #D2E3FC;\n",
              "    }\n",
              "\n",
              "    [theme=dark] .colab-df-convert:hover {\n",
              "      background-color: #434B5C;\n",
              "      box-shadow: 0px 1px 3px 1px rgba(0, 0, 0, 0.15);\n",
              "      filter: drop-shadow(0px 1px 2px rgba(0, 0, 0, 0.3));\n",
              "      fill: #FFFFFF;\n",
              "    }\n",
              "  </style>\n",
              "\n",
              "      <script>\n",
              "        const buttonEl =\n",
              "          document.querySelector('#df-2edd7b34-34b4-49c1-99b1-79df982b0fae button.colab-df-convert');\n",
              "        buttonEl.style.display =\n",
              "          google.colab.kernel.accessAllowed ? 'block' : 'none';\n",
              "\n",
              "        async function convertToInteractive(key) {\n",
              "          const element = document.querySelector('#df-2edd7b34-34b4-49c1-99b1-79df982b0fae');\n",
              "          const dataTable =\n",
              "            await google.colab.kernel.invokeFunction('convertToInteractive',\n",
              "                                                     [key], {});\n",
              "          if (!dataTable) return;\n",
              "\n",
              "          const docLinkHtml = 'Like what you see? Visit the ' +\n",
              "            '<a target=\"_blank\" href=https://colab.research.google.com/notebooks/data_table.ipynb>data table notebook</a>'\n",
              "            + ' to learn more about interactive tables.';\n",
              "          element.innerHTML = '';\n",
              "          dataTable['output_type'] = 'display_data';\n",
              "          await google.colab.output.renderOutput(dataTable, element);\n",
              "          const docLink = document.createElement('div');\n",
              "          docLink.innerHTML = docLinkHtml;\n",
              "          element.appendChild(docLink);\n",
              "        }\n",
              "      </script>\n",
              "    </div>\n",
              "  </div>\n",
              "  "
            ]
          },
          "metadata": {},
          "execution_count": 33
        }
      ]
    },
    {
      "cell_type": "code",
      "source": [
        "df_1['동물병원약국 밀도'].describe()"
      ],
      "metadata": {
        "colab": {
          "base_uri": "https://localhost:8080/"
        },
        "id": "PN6Fcy8lb69B",
        "outputId": "c2c9fc2c-d19d-4533-fdaf-f0aef7fee4ca"
      },
      "execution_count": 34,
      "outputs": [
        {
          "output_type": "execute_result",
          "data": {
            "text/plain": [
              "count     8.000000\n",
              "mean     14.778829\n",
              "std      11.941275\n",
              "min       7.777778\n",
              "25%      10.021212\n",
              "50%      10.706731\n",
              "75%      12.125000\n",
              "max      44.000000\n",
              "Name: 동물병원약국 밀도, dtype: float64"
            ]
          },
          "metadata": {},
          "execution_count": 34
        }
      ]
    },
    {
      "cell_type": "code",
      "source": [
        "df_0['동물병원약국 밀도'].describe()"
      ],
      "metadata": {
        "colab": {
          "base_uri": "https://localhost:8080/"
        },
        "id": "PO0knEevb9Bo",
        "outputId": "59c31a5a-bf0f-4ec7-b4b5-de2b66875f23"
      },
      "execution_count": 35,
      "outputs": [
        {
          "output_type": "execute_result",
          "data": {
            "text/plain": [
              "count    17.000000\n",
              "mean      8.054061\n",
              "std       3.897313\n",
              "min       3.810811\n",
              "25%       5.866667\n",
              "50%       7.214286\n",
              "75%       8.733333\n",
              "max      19.750000\n",
              "Name: 동물병원약국 밀도, dtype: float64"
            ]
          },
          "metadata": {},
          "execution_count": 35
        }
      ]
    },
    {
      "cell_type": "code",
      "source": [
        "col_names = ['density of pet households', \n",
        "             'number of animal deaths', \n",
        "             'density of animal deaths',  \n",
        "             'density of animal shelters', \n",
        "             'number of animal hospitals & pharmacies', \n",
        "             'density of animal hospitals & pharmacies']\n",
        "\n",
        "importances = pd.Series(best_grid.feature_importances_, col_names)\n",
        "\n",
        "n=20\n",
        "plt.title(f'Top {n} features')\n",
        "importances.sort_values().plot.barh()\n"
      ],
      "metadata": {
        "colab": {
          "base_uri": "https://localhost:8080/",
          "height": 380
        },
        "id": "YPCRf8sjb-75",
        "outputId": "7e732d58-82bd-461a-be5d-bff800fd5c6b"
      },
      "execution_count": 36,
      "outputs": [
        {
          "output_type": "execute_result",
          "data": {
            "text/plain": [
              "<matplotlib.axes._subplots.AxesSubplot at 0x7fa63a60b8b0>"
            ]
          },
          "metadata": {},
          "execution_count": 36
        },
        {
          "output_type": "display_data",
          "data": {
            "text/plain": [
              "<Figure size 576x396 with 1 Axes>"
            ],
            "image/png": "[encoded data removed]"
          },
          "metadata": {}
        }
      ]
    },
    {
      "cell_type": "code",
      "source": [
        "X_test.columns"
      ],
      "metadata": {
        "colab": {
          "base_uri": "https://localhost:8080/"
        },
        "id": "LmFro6HkfNFI",
        "outputId": "620732d3-3458-43c6-a083-87380d99f00b"
      },
      "execution_count": 37,
      "outputs": [
        {
          "output_type": "execute_result",
          "data": {
            "text/plain": [
              "Index(['면적', '반려동물 가구밀도', '폐사안락사 비율', '보호소 밀도', '동물병원약국개수', '동물병원약국 밀도'], dtype='object')"
            ]
          },
          "metadata": {},
          "execution_count": 37
        }
      ]
    },
    {
      "cell_type": "code",
      "source": [
        "# Songpa-gu\n",
        "# Mapo-gu\n",
        "# Gwangjin-gu\n",
        "# Jung-gu\n",
        "# Seongbuk-gu\n",
        "# Gwanak-gu\n",
        "# Dongjak-gu\n",
        "# Dongdaemun-gu"
      ],
      "metadata": {
        "id": "3FXJmVjngzox"
      },
      "execution_count": 38,
      "outputs": []
    }
  ]
}