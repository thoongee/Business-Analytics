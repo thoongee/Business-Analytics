{
  "nbformat": 4,
  "nbformat_minor": 0,
  "metadata": {
    "colab": {
      "provenance": []
    },
    "kernelspec": {
      "name": "python3",
      "display_name": "Python 3"
    },
    "language_info": {
      "name": "python"
    }
  },
  "cells": [
    {
      "cell_type": "code",
      "source": [
        "import pandas as pd\n",
        "import numpy as np\n",
        "np.random.seed(42)\n",
        "\n",
        "from matplotlib import pyplot\n",
        "%matplotlib inline\n",
        "\n",
        "import matplotlib as mpl\n",
        "import matplotlib.pyplot as plt\n",
        "import matplotlib.font_manager as fm\n",
        "\n",
        "mpl.rcParams['axes.unicode_minus'] = False\n",
        "mpl.rc(\"font\", family = \"Malgun Gothic\")"
      ],
      "metadata": {
        "id": "MITf_hlL5jic"
      },
      "execution_count": 16,
      "outputs": []
    },
    {
      "cell_type": "code",
      "execution_count": 17,
      "metadata": {
        "colab": {
          "base_uri": "https://localhost:8080/"
        },
        "id": "wipGWezK5ULW",
        "outputId": "dd512a27-49f4-4c9c-fc3f-90abe74993b5"
      },
      "outputs": [
        {
          "output_type": "execute_result",
          "data": {
            "text/plain": [
              "array(['송파구', '구로구', '금천구', '강서구', '종로구', '은평구', '강동구', '강남구', '마포구',\n",
              "       '노원구', '광진구', '중구', '성동구', '성북구', '관악구', '서대문구', '용산구', '서초구',\n",
              "       '동작구', '동대문구', '영등포구', '도봉구', '중랑구', '양천구', '강북구'], dtype=object)"
            ]
          },
          "metadata": {},
          "execution_count": 17
        }
      ],
      "source": [
        "df = pd.read_excel('/content/preprocessing_data.xlsx')\n",
        "df['서울시 구'].unique()"
      ]
    },
    {
      "cell_type": "code",
      "source": [
        "new_df=df.to_numpy()"
      ],
      "metadata": {
        "id": "E7wwh-z9nUqU"
      },
      "execution_count": 18,
      "outputs": []
    },
    {
      "cell_type": "code",
      "source": [
        "gu_list = df['서울시 구'].unique()\n",
        "# gu_list = gu_list[:-1]\n",
        "print(gu_list)\n",
        "print(len(gu_list))"
      ],
      "metadata": {
        "colab": {
          "base_uri": "https://localhost:8080/"
        },
        "id": "RSQL5UPLnN_L",
        "outputId": "44a776b8-c769-42f5-86c8-66ccb5f7f2e5"
      },
      "execution_count": 19,
      "outputs": [
        {
          "output_type": "stream",
          "name": "stdout",
          "text": [
            "['송파구' '구로구' '금천구' '강서구' '종로구' '은평구' '강동구' '강남구' '마포구' '노원구' '광진구' '중구'\n",
            " '성동구' '성북구' '관악구' '서대문구' '용산구' '서초구' '동작구' '동대문구' '영등포구' '도봉구' '중랑구'\n",
            " '양천구' '강북구']\n",
            "25\n"
          ]
        }
      ]
    },
    {
      "cell_type": "code",
      "source": [
        "# result = [] \n",
        "\n",
        "total_gagu_list = [0]*25 \n",
        "gagu_list = [0]*25 \n",
        "size_list = [0]*25 \n",
        "death_list = [0]*25 \n",
        "shleter_list = [0]*25 \n",
        "hospital_list = [0]*25 \n",
        "\n",
        "gu_num = 0\n",
        "\n",
        "for gu in gu_list:\n",
        "  # print('gu: ',gu)\n",
        "  total_gagu = 0\n",
        "  gagu = 0\n",
        "  size = 0\n",
        "  death = 0\n",
        "  hospital = 0\n",
        "  shleter = 0\n",
        "  for i in range(len(df)):\n",
        "\n",
        "    if new_df[i][2]== gu: # 구\n",
        "      gagu = new_df[i][5]# 반려동물 가구수 (구)\n",
        "      size +=  new_df[i][7]# 면적\n",
        "      death += new_df[i][9] # 폐사안락사수\n",
        "      hospital += new_df[i][5] # 동물병원약국개수\n",
        "      total_gagu = new_df[i][3] # 가구원수 (구)\n",
        "      shleter += new_df[i][10] # 보호소수\n",
        "  \n",
        "  print('size: ',size)\n",
        "  gagu_list[gu_num] = gagu\n",
        "  size_list[gu_num] = size\n",
        "  death_list[gu_num] = death\n",
        "  hospital_list[gu_num] = hospital\n",
        "  shleter_list[gu_num] = shleter\n",
        "  total_gagu_list[gu_num] = total_gagu\n",
        "\n",
        "  gu_num += 1\n",
        "\n",
        "print(len(gu_list),len(gagu_list),len(size_list),len(death_list),len(hospital_list), len(total_gagu_list),len(shleter_list))"
      ],
      "metadata": {
        "colab": {
          "base_uri": "https://localhost:8080/"
        },
        "id": "AhGV_k-SoCDw",
        "outputId": "2cc14db2-6833-4461-a69a-2df510708d5b"
      },
      "execution_count": 20,
      "outputs": [
        {
          "output_type": "stream",
          "name": "stdout",
          "text": [
            "size:  33.879999999999995\n",
            "size:  20.119999999999997\n",
            "size:  13.02\n",
            "size:  41.440000000000005\n",
            "size:  23.910000000000004\n",
            "size:  29.699999999999996\n",
            "size:  24.58\n",
            "size:  39.51\n",
            "size:  23.85\n",
            "size:  35.44\n",
            "size:  17.06\n",
            "size:  9.959999999999999\n",
            "size:  16.860000000000003\n",
            "size:  24.569999999999997\n",
            "size:  29.570000000000004\n",
            "size:  17.63\n",
            "size:  21.859999999999996\n",
            "size:  46.99999999999999\n",
            "size:  16.35\n",
            "size:  14.209999999999999\n",
            "size:  24.550000000000004\n",
            "size:  20.650000000000002\n",
            "size:  18.500000000000004\n",
            "size:  17.41\n",
            "size:  23.6\n",
            "25 25 25 25 25 25 25\n"
          ]
        }
      ]
    },
    {
      "cell_type": "code",
      "source": [
        "print(gagu_list)\n",
        "print(size_list)\n",
        "print(death_list)\n",
        "print(total_gagu_list)\n",
        "print(shleter_list)"
      ],
      "metadata": {
        "colab": {
          "base_uri": "https://localhost:8080/"
        },
        "id": "Hp6n7pgpCjo5",
        "outputId": "dc66c9eb-d098-4d2f-ae47-5187226f38e4"
      },
      "execution_count": 21,
      "outputs": [
        {
          "output_type": "stream",
          "name": "stdout",
          "text": [
            "[55245.456, 31996.185, 18514.328, 49795.788, 11858.418, 35266.735, 34012.416, 44690.262, 34707.096, 48241.41, 31053.24, 10522.763, 23337.526, 31081.18, 41327.194, 26356.176, 20769.938, 33722.568, 35398.626, 23758.934, 35726.02, 25854.486, 31647.744, 35035.284, 24792.755]\n",
            "[33.879999999999995, 20.119999999999997, 13.02, 41.440000000000005, 23.910000000000004, 29.699999999999996, 24.58, 39.51, 23.85, 35.44, 17.06, 9.959999999999999, 16.860000000000003, 24.569999999999997, 29.570000000000004, 17.63, 21.859999999999996, 46.99999999999999, 16.35, 14.209999999999999, 24.550000000000004, 20.650000000000002, 18.500000000000004, 17.41, 23.6]\n",
            "[369, 6, 0, 0, 243, 0, 123, 0, 256, 233, 270, 133, 0, 411, 229, 0, 0, 5, 140, 589, 0, 239, 0, 0, 418]\n",
            "[255766, 164083, 103432, 244097, 63414, 190631, 177148, 208833, 160681, 202695, 143765, 55093, 122186, 179660, 248959, 133112, 95714, 156123, 167766, 150373, 162391, 127362, 164832, 166044, 129805]\n",
            "[26, 5, 0, 0, 16, 0, 18, 0, 16, 19, 15, 11, 0, 20, 21, 0, 0, 3, 15, 14, 0, 14, 0, 0, 13]\n"
          ]
        }
      ]
    },
    {
      "cell_type": "code",
      "source": [
        "# calculate density\n",
        "animal_d = [0]*25\n",
        "shleter_d = [0]*25\n",
        "death_d = [0]*25\n",
        "hospital_d = [0]*25\n",
        "\n",
        "for i in range(len(size_list)):\n",
        "  animal_d[i] = gagu_list[i] / size_list[i] # 반려동물 가구밀도\n",
        "  shleter_d[i] = shleter_list[i] / size_list[i]# 보호소 밀도\n",
        "  death_d[i] = death_list[i]/size_list[i]# 폐사안락사 비율 \n",
        "  hospital_d[i] = hospital_list[i]/size_list[i]# 동물병원약국 밀도 \n",
        "\n",
        "print(hospital_d)"
      ],
      "metadata": {
        "colab": {
          "base_uri": "https://localhost:8080/"
        },
        "id": "3eqSD3iEDpEV",
        "outputId": "2eb731ed-522a-49f9-fbd4-6754f435e931"
      },
      "execution_count": 22,
      "outputs": [
        {
          "output_type": "stream",
          "name": "stdout",
          "text": [
            "[44026.78016528926, 25444.282306163026, 14219.91397849463, 24032.716216216202, 8431.330238393979, 18998.91447811448, 24907.383563873056, 24884.478967350035, 23283.58641509434, 25863.05840857789, 27303.552168815942, 15847.534638554222, 23531.313285883753, 25300.105820105826, 29349.71504903619, 20929.46477595008, 15202.150411710893, 12915.026042553187, 32475.803669724763, 23407.816748768477, 26194.230549898166, 17528.46508474576, 27371.021837837834, 36222.57966685812, 13657.026059322034]\n"
          ]
        }
      ]
    },
    {
      "cell_type": "code",
      "source": [
        "import csv\n",
        "\n",
        "fields = ['서울시 구','면적', '반려동물 가구밀도','폐사안락사 비율','보호소 밀도','동물병원약국개수','동물병원약국밀도']\n",
        "new_row = []   \n",
        "\n",
        "for i in range(len(gu_list)):\n",
        "    line = []              \n",
        "    line.append(gu_list[i])\n",
        "    line.append(size_list[i])\n",
        "    line.append(animal_d[i])\n",
        "    line.append(death_d[i])\n",
        "    # line.append(shleter_list[i])\n",
        "    line.append(shleter_d[i])\n",
        "    line.append(hospital_list[i])\n",
        "    line.append(hospital_d[i])\n",
        "\n",
        "    new_row.append(line)\n",
        "\n",
        "\n",
        "print(len(gu_list),len(size_list),len(animal_d),len(death_d),len(shleter_d), len(hospital_list),len(hospital_d))\n",
        "\n",
        "with open('test.csv', 'w', newline='') as f:\n",
        "    writer = csv.writer(f)\n",
        "    writer.writerow(fields)\n",
        "    writer.writerows(new_row)\n"
      ],
      "metadata": {
        "colab": {
          "base_uri": "https://localhost:8080/"
        },
        "id": "qShjZ_6CGRpX",
        "outputId": "e5deeb4a-2478-4939-e5ba-ac5c6057e1e8"
      },
      "execution_count": 23,
      "outputs": [
        {
          "output_type": "stream",
          "name": "stdout",
          "text": [
            "25 25 25 25 25 25 25\n"
          ]
        }
      ]
    }
  ]
}